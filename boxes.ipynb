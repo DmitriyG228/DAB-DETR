{
 "cells": [
  {
   "cell_type": "code",
   "execution_count": 2,
   "metadata": {},
   "outputs": [],
   "source": [
    "#default_exp boxes"
   ]
  },
  {
   "cell_type": "code",
   "execution_count": 3,
   "metadata": {},
   "outputs": [
    {
     "name": "stderr",
     "output_type": "stream",
     "text": [
      "/home/dima/DAB-DETR/STEGO/src/train_segmentation.py:386: UserWarning: \n",
      "The version_base parameter is not specified.\n",
      "Please specify a compatability version level, or None.\n",
      "Will assume defaults for version 1.1\n",
      "  @hydra.main(config_path=\"configs\", config_name=\"train_config.yml\")\n"
     ]
    },
    {
     "name": "stdout",
     "output_type": "stream",
     "text": [
      "Since no pretrained weights have been provided, we load the reference pretrained DINO weights.\n"
     ]
    },
    {
     "name": "stderr",
     "output_type": "stream",
     "text": [
      "/home/dima/anaconda3/envs/dab/lib/python3.9/site-packages/torchmetrics/utilities/prints.py:36: UserWarning: Torchmetrics v0.9 introduced a new argument class property called `full_state_update` that has\n",
      "                not been set for this class (UnsupervisedMetrics). The property determines if `update` by\n",
      "                default needs access to the full metric state. If this is not the case, significant speedups can be\n",
      "                achieved and we recommend setting this to `False`.\n",
      "                We provide an checking function\n",
      "                `from torchmetrics.utilities import check_forward_no_full_state`\n",
      "                that can be used to check if the `full_state_update=True` (old and potential slower behaviour,\n",
      "                default for now) or if `full_state_update=False` can be used safely.\n",
      "                \n",
      "  warnings.warn(*args, **kwargs)\n"
     ]
    }
   ],
   "source": [
    "#export\n",
    "\n",
    "import os, sys\n",
    "import torch\n",
    "import numpy as np\n",
    "\n",
    "from models import build_DABDETR, build_dab_deformable_detr\n",
    "from util.slconfig import SLConfig\n",
    "from datasets import build_dataset\n",
    "from util.visualizer import COCOVisualizer\n",
    "from util import box_ops\n",
    "\n",
    "from PIL import Image\n",
    "import datasets.transforms as T\n",
    "import requests, io\n",
    "import requests\n",
    "from dab.paths import *\n",
    "\n",
    "from dab.segment import *\n",
    "import requests\n",
    "from PIL import Image\n",
    "from io import BytesIO\n",
    "\n",
    "\n",
    "vslzr = COCOVisualizer()\n",
    "\n",
    "def dtd(d,device):\n",
    "    return {k: v.to(device=device, non_blocking=True) if hasattr(v, 'to') \n",
    "               else dtd(v,device) if hasattr(v, 'items') \n",
    "               else [dtd(i,device) for i in v] if isinstance(v,list)\n",
    "               else v for k, v in d.items()}\n",
    "model_config_path     = \"model_zoo/DAB_DETR/R50_v2/config.json\" # change the path of the model config file\n",
    "model_checkpoint_path = \"model_zoo/DAB_DETR/R50_v2/checkpoint.pth\" # change the path of the model checkpoint\n",
    "# See our Model Zoo section in README.md for more details about our pretrained models.\n",
    "\n",
    "device='cpu'\n",
    "args = SLConfig.fromfile(model_config_path) \n",
    "model, criterion, postprocessors = build_dab_deformable_detr(args)\n",
    "checkpoint = torch.load(model_checkpoint_path, map_location=device)\n",
    "model.load_state_dict(checkpoint['model'])\n",
    "model = model.to('cuda')\n",
    "def dtd(d,device):\n",
    "    return {k: v.to(device=device, non_blocking=True) if hasattr(v, 'to') \n",
    "               else dtd(v,device) if hasattr(v, 'items') \n",
    "               else [dtd(i,device) for i in v] if isinstance(v,list)\n",
    "               else v for k, v in d.items()}"
   ]
  },
  {
   "cell_type": "code",
   "execution_count": 4,
   "metadata": {},
   "outputs": [],
   "source": [
    "from dab.tools import get_image_from_url"
   ]
  },
  {
   "cell_type": "code",
   "execution_count": 5,
   "metadata": {},
   "outputs": [],
   "source": [
    "#export\n",
    "def get_boxes(image,thershold=35):\n",
    "\n",
    "    image_init = image\n",
    "\n",
    "\n",
    "\n",
    "    # image\n",
    "    # transform images\n",
    "    transform = T.Compose([\n",
    "        T.RandomResize([800], max_size=1333),\n",
    "        T.ToTensor(),\n",
    "        T.Normalize([0.485, 0.456, 0.406], [0.229, 0.224, 0.225])\n",
    "    ])\n",
    "    image, _ = transform(image_init, None)\n",
    "    # predict images\n",
    "    output = model(image[None].to('cuda'))\n",
    "    output = dtd(output,'cpu')\n",
    "    output = postprocessors['bbox'](output, torch.Tensor([[1.0, 1.0]]))[0]\n",
    "    # visualize outputs\n",
    "\n",
    "    scores = output['scores']\n",
    "    labels = output['labels']\n",
    "    boxes = box_ops.box_xyxy_to_cxcywh(output['boxes'])\n",
    "    select_mask = scores > thershold\n",
    "\n",
    "    # box_label = [id2name[int(item)] for item in labels[select_mask]]\n",
    "    pred_dict = {\n",
    "        'boxes': boxes[select_mask],\n",
    "        'size': torch.Tensor([image.shape[1], image.shape[2]]),\n",
    "        # 'box_label': box_label\n",
    "    }\n",
    "    # vslzr.visualize(image, pred_dict, savedir=None)\n",
    "    W,H = image_init.size\n",
    "\n",
    "    boxes = []\n",
    "\n",
    "    for box in pred_dict['boxes']:\n",
    "        unnormbbox = box * torch.Tensor([W, H, W, H])\n",
    "        unnormbbox[:2] -= unnormbbox[2:] / 2\n",
    "        [bbox_x, bbox_y, bbox_w, bbox_h] = unnormbbox.tolist()\n",
    "\n",
    "        boxes.append((bbox_x,bbox_y,bbox_x+bbox_w,bbox_y+bbox_h))\n",
    "\n",
    "\n",
    "    return boxes\n",
    "\n",
    "    #"
   ]
  },
  {
   "cell_type": "code",
   "execution_count": 6,
   "metadata": {},
   "outputs": [],
   "source": [
    "\n",
    "def save_return_boxes(url,thershold=0.35):\n",
    "    response = requests.get(url)\n",
    "    image_bytes = io.BytesIO(response.content)\n",
    "    image_init = Image.open(image_bytes).convert(\"RGB\")\n",
    "    boxes = get_boxes(image_init,thershold)\n",
    "    photo_id = url.split('/')[-1]\n",
    "    for id, box in enumerate(boxes): image_init.crop(box).save(fragment_reference_images_path/f'{photo_id}_{id}.jpg')\n",
    "    return boxes"
   ]
  },
  {
   "cell_type": "code",
   "execution_count": 7,
   "metadata": {},
   "outputs": [],
   "source": [
    "\n",
    "\n",
    "def save_return_boxes(url,thershold=0.35):\n",
    "    response = requests.get(url)\n",
    "    img = Image.open(BytesIO(response.content))\n",
    "    img = get_food_segment(img)\n",
    "    boxes = get_boxes(img,thershold=thershold)\n",
    "    photo_id = url.split('/')[-1]\n",
    "    for id, box in enumerate(boxes): img.crop(box).save(fragment_reference_images_path/f'{photo_id}_{id}.jpg')\n",
    "    return boxes"
   ]
  },
  {
   "cell_type": "code",
   "execution_count": 25,
   "metadata": {},
   "outputs": [],
   "source": [
    "url = 'https://image.shutterstock.com/z/stock-photo-club-sandwich-and-french-fries-on-a-light-wooden-board-next-to-the-potatoes-is-a-cup-of-ketchup-1147730354.jpg'"
   ]
  },
  {
   "cell_type": "code",
   "execution_count": 26,
   "metadata": {},
   "outputs": [],
   "source": [
    "image_init = get_image_from_url(url)"
   ]
  },
  {
   "cell_type": "code",
   "execution_count": 27,
   "metadata": {},
   "outputs": [
    {
     "name": "stderr",
     "output_type": "stream",
     "text": [
      "/home/dima/DAB-DETR/models/dab_deformable_detr/position_encoding.py:53: UserWarning: __floordiv__ is deprecated, and its behavior will change in a future version of pytorch. It currently rounds toward 0 (like the 'trunc' function NOT 'floor'). This results in incorrect rounding for negative values. To keep the current behavior, use torch.div(a, b, rounding_mode='trunc'), or for actual floor division, use torch.div(a, b, rounding_mode='floor').\n",
      "  dim_t = self.temperature ** (2 * (dim_t // 2) / self.num_pos_feats)\n",
      "/home/dima/DAB-DETR/models/dab_deformable_detr/deformable_transformer.py:489: UserWarning: __floordiv__ is deprecated, and its behavior will change in a future version of pytorch. It currently rounds toward 0 (like the 'trunc' function NOT 'floor'). This results in incorrect rounding for negative values. To keep the current behavior, use torch.div(a, b, rounding_mode='trunc'), or for actual floor division, use torch.div(a, b, rounding_mode='floor').\n",
      "  dim_t = 10000 ** (2 * (dim_t // 2) / 128)\n",
      "/home/dima/DAB-DETR/models/dab_deformable_detr/dab_deformable_detr.py:463: UserWarning: __floordiv__ is deprecated, and its behavior will change in a future version of pytorch. It currently rounds toward 0 (like the 'trunc' function NOT 'floor'). This results in incorrect rounding for negative values. To keep the current behavior, use torch.div(a, b, rounding_mode='trunc'), or for actual floor division, use torch.div(a, b, rounding_mode='floor').\n",
      "  topk_boxes = topk_indexes // out_logits.shape[2]\n"
     ]
    }
   ],
   "source": [
    "boxes = get_boxes(image_init,thershold=0.00035);"
   ]
  },
  {
   "cell_type": "code",
   "execution_count": 28,
   "metadata": {},
   "outputs": [],
   "source": [
    "img_array = np.array(image_init)"
   ]
  },
  {
   "cell_type": "code",
   "execution_count": 29,
   "metadata": {},
   "outputs": [
    {
     "data": {
      "text/plain": [
       "(1098, 1500, 3)"
      ]
     },
     "execution_count": 29,
     "metadata": {},
     "output_type": "execute_result"
    }
   ],
   "source": [
    "img_array.shape"
   ]
  },
  {
   "cell_type": "code",
   "execution_count": 30,
   "metadata": {},
   "outputs": [],
   "source": [
    "boxes = [[int(bb) for bb in b] for b in boxes]\n",
    "arrays = []\n",
    "for b in boxes:\n",
    "    arrays.append()\n",
    "img_array[~img_array[b[1]:b[3],b[0]:b[2],:]] = 0"
   ]
  },
  {
   "cell_type": "code",
   "execution_count": 23,
   "metadata": {},
   "outputs": [],
   "source": [
    "img_array[~img_array[444:760,280:577,:]] = 0"
   ]
  },
  {
   "cell_type": "code",
   "execution_count": 20,
   "metadata": {},
   "outputs": [
    {
     "data": {
      "text/plain": [
       "(1500, 1098)"
      ]
     },
     "execution_count": 20,
     "metadata": {},
     "output_type": "execute_result"
    }
   ],
   "source": [
    "image_init.size"
   ]
  },
  {
   "cell_type": "code",
   "execution_count": 19,
   "metadata": {},
   "outputs": [
    {
     "data": {
      "text/plain": [
       "(1098, 1500, 3)"
      ]
     },
     "execution_count": 19,
     "metadata": {},
     "output_type": "execute_result"
    }
   ],
   "source": [
    "img_array.shape"
   ]
  },
  {
   "cell_type": "code",
   "execution_count": 22,
   "metadata": {},
   "outputs": [
    {
     "name": "stdout",
     "output_type": "stream",
     "text": [
      "\u001b[0;31mSignature:\u001b[0m \u001b[0mimage_init\u001b[0m\u001b[0;34m.\u001b[0m\u001b[0mcrop\u001b[0m\u001b[0;34m(\u001b[0m\u001b[0mbox\u001b[0m\u001b[0;34m=\u001b[0m\u001b[0;32mNone\u001b[0m\u001b[0;34m)\u001b[0m\u001b[0;34m\u001b[0m\u001b[0;34m\u001b[0m\u001b[0m\n",
      "\u001b[0;31mDocstring:\u001b[0m\n",
      "Returns a rectangular region from this image. The box is a\n",
      "4-tuple defining the left, upper, right, and lower pixel\n",
      "coordinate. See :ref:`coordinate-system`.\n",
      "\n",
      "Note: Prior to Pillow 3.4.0, this was a lazy operation.\n",
      "\n",
      ":param box: The crop rectangle, as a (left, upper, right, lower)-tuple.\n",
      ":rtype: :py:class:`~PIL.Image.Image`\n",
      ":returns: An :py:class:`~PIL.Image.Image` object.\n",
      "\u001b[0;31mFile:\u001b[0m      ~/anaconda3/envs/dab/lib/python3.9/site-packages/PIL/Image.py\n",
      "\u001b[0;31mType:\u001b[0m      method\n"
     ]
    }
   ],
   "source": [
    "image_init.crop?"
   ]
  },
  {
   "cell_type": "code",
   "execution_count": 70,
   "metadata": {},
   "outputs": [
    {
     "data": {
      "text/plain": [
       "[(280.15777587890625, 444.86474609375, 577.4803161621094, 760.3456726074219),\n",
       " (566.224365234375, 490.0134582519531, 867.5025634765625, 811.2196960449219),\n",
       " (838.279052734375, 318.07244873046875, 1145.2294311523438, 614.3818359375),\n",
       " (828.1907348632812, 566.5265502929688, 1100.6534729003906, 867.0364379882812),\n",
       " (295.9640808105469,\n",
       "  211.29629516601562,\n",
       "  511.96702575683594,\n",
       "  426.9286804199219),\n",
       " (296.2718811035156, 211.83364868164062, 511.3861999511719, 426.9445037841797),\n",
       " (829.9771118164062, 565.14501953125, 1100.8348083496094, 869.0626831054688),\n",
       " (303.3920593261719, 641.294189453125, 379.73597717285156, 696.5904769897461),\n",
       " (295.9640808105469,\n",
       "  211.29629516601562,\n",
       "  511.96702575683594,\n",
       "  426.9286804199219),\n",
       " (926.1633911132812, 565.0516357421875, 1101.6889343261719, 848.4552917480469),\n",
       " (927.90625, 563.393798828125, 1097.5391540527344, 813.7358856201172),\n",
       " (323.7318420410156, 642.7954711914062, 379.8770942687988, 690.7076301574707),\n",
       " (721.9324951171875, 534.2677001953125, 871.6952514648438, 736.0935974121094),\n",
       " (836.97509765625, 351.39019775390625, 1072.6883392333984, 610.8310852050781),\n",
       " (323.7318420410156, 642.7954711914062, 379.8770942687988, 690.7076301574707),\n",
       " (245.76162719726562,\n",
       "  242.07302856445312,\n",
       "  1233.2890319824219,\n",
       "  887.6270446777344),\n",
       " (567.49951171875, 488.0409851074219, 1103.6328735351562, 868.1617736816406),\n",
       " (303.3920593261719, 641.294189453125, 379.73597717285156, 696.5904769897461),\n",
       " (251.1849365234375, 303.5404357910156, 1233.239990234375, 884.6238708496094),\n",
       " (829.9771118164062, 565.14501953125, 1100.8348083496094, 869.0626831054688),\n",
       " (323.7318420410156, 642.7954711914062, 379.8770942687988, 690.7076301574707),\n",
       " (959.4008178710938,\n",
       "  319.05755615234375,\n",
       "  1143.8899536132812,\n",
       "  584.0886840820312),\n",
       " (565.5228271484375, 529.0137329101562, 774.0629730224609, 810.9938049316406),\n",
       " (296.2718811035156, 211.83364868164062, 511.3861999511719, 426.9445037841797),\n",
       " (615.3883056640625, 490.59747314453125, 862.3427734375, 770.8718872070312),\n",
       " (277.2024841308594, 556.328857421875, 375.23279571533203, 698.0717163085938),\n",
       " (829.612548828125, 580.0986328125, 1064.1783447265625, 859.0662231445312),\n",
       " (282.7623291015625, 301.68304443359375, 1148.202880859375, 798.6938781738281),\n",
       " (277.1453857421875, 556.7779541015625, 333.77455139160156, 696.7155609130859),\n",
       " (828.1907348632812, 566.5265502929688, 1100.6534729003906, 867.0364379882812),\n",
       " (281.5516357421875, 444.738525390625, 572.7542419433594, 730.6516418457031),\n",
       " (492.6820983886719, 258.42010498046875, 959.2152404785156, 395.6240234375),\n",
       " (245.76162719726562,\n",
       "  242.07302856445312,\n",
       "  1233.2890319824219,\n",
       "  887.6270446777344),\n",
       " (838.1453857421875, 319.0384521484375, 1143.6861877441406, 618.6514587402344),\n",
       " (479.26129150390625, 259.1571044921875, 959.7297668457031, 587.2088928222656),\n",
       " (280.6351318359375, 444.42230224609375, 454.7964172363281, 686.4084167480469),\n",
       " (287.8992004394531, 445.6816711425781, 465.71873474121094, 692.0971374511719),\n",
       " (829.9771118164062, 565.14501953125, 1100.8348083496094, 869.0626831054688),\n",
       " (567.49951171875, 488.0409851074219, 1103.6328735351562, 868.1617736816406),\n",
       " (826.9306640625, 594.9635620117188, 1042.5180358886719, 857.2861633300781),\n",
       " (303.3920593261719, 641.294189453125, 379.73597717285156, 696.5904769897461),\n",
       " (568.4860229492188, 528.2981567382812, 976.4291076660156, 858.2026062011719),\n",
       " (840.5160522460938, 331.09619140625, 1142.1787414550781, 610.1592712402344),\n",
       " (419.8448181152344, 517.5715942382812, 577.9148101806641, 683.7735443115234),\n",
       " (826.9306640625, 594.9635620117188, 1042.5180358886719, 857.2861633300781),\n",
       " (927.90625, 563.393798828125, 1097.5391540527344, 813.7358856201172),\n",
       " (829.9771118164062, 565.14501953125, 1100.8348083496094, 869.0626831054688),\n",
       " (627.8118896484375, 490.95721435546875, 857.7522125244141, 771.9432983398438),\n",
       " (273.1107482910156,\n",
       "  250.86868286132812,\n",
       "  1135.7193298339844,\n",
       "  865.6399841308594),\n",
       " (277.1453857421875, 556.7779541015625, 333.77455139160156, 696.7155609130859),\n",
       " (2.75372314453125, 3.97412109375, 1500.4821166992188, 1010.01806640625),\n",
       " (298.9295959472656,\n",
       "  367.73602294921875,\n",
       "  1121.2206726074219,\n",
       "  881.1082153320312),\n",
       " (296.2718811035156, 211.83364868164062, 511.3861999511719, 426.9445037841797),\n",
       " (296.2718811035156, 211.83364868164062, 511.3861999511719, 426.9445037841797),\n",
       " (254.68667602539062, 450.8046875, 1103.3122253417969, 868.0313415527344),\n",
       " (836.97509765625, 351.39019775390625, 1072.6883392333984, 610.8310852050781),\n",
       " (248.88388061523438,\n",
       "  231.12899780273438,\n",
       "  1239.9327697753906,\n",
       "  1000.6308898925781),\n",
       " (277.1453857421875, 556.7779541015625, 333.77455139160156, 696.7155609130859),\n",
       " (479.1930236816406, 292.2419738769531, 1233.2218933105469, 880.6357116699219),\n",
       " (275.6377868652344, 637.8482666015625, 465.91941833496094, 692.9510955810547),\n",
       " (296.2718811035156, 211.83364868164062, 511.3861999511719, 426.9445037841797),\n",
       " (479.1930236816406, 292.2419738769531, 1233.2218933105469, 880.6357116699219),\n",
       " (281.5516357421875, 444.738525390625, 572.7542419433594, 730.6516418457031),\n",
       " (563.7318725585938, 530.4656982421875, 746.3186950683594, 744.6118774414062),\n",
       " (299.50244140625, 639.7529296875, 476.7164306640625, 695.2857398986816),\n",
       " (281.5516357421875, 444.738525390625, 572.7542419433594, 730.6516418457031),\n",
       " (310.98333740234375,\n",
       "  445.1978454589844,\n",
       "  440.75904846191406,\n",
       "  565.3370132446289),\n",
       " (615.3883056640625, 490.59747314453125, 862.3427734375, 770.8718872070312),\n",
       " (829.612548828125, 580.0986328125, 1064.1783447265625, 859.0662231445312),\n",
       " (826.9306640625, 594.9635620117188, 1042.5180358886719, 857.2861633300781),\n",
       " (926.1633911132812, 565.0516357421875, 1101.6889343261719, 848.4552917480469),\n",
       " (276.3977355957031, 532.945068359375, 380.6472854614258, 697.9042053222656),\n",
       " (279.1833801269531, 637.4781494140625, 475.59275817871094, 720.1981048583984),\n",
       " (852.822998046875, 697.7176513671875, 935.12890625, 757.9715957641602),\n",
       " (281.5516357421875, 444.738525390625, 572.7542419433594, 730.6516418457031),\n",
       " (276.0665283203125, 514.8318481445312, 388.2844772338867, 693.7443084716797),\n",
       " (827.9057006835938, 601.9132080078125, 925.8839340209961, 755.1567535400391),\n",
       " (627.8118896484375, 490.95721435546875, 857.7522125244141, 771.9432983398438),\n",
       " (245.76162719726562,\n",
       "  242.07302856445312,\n",
       "  1233.2890319824219,\n",
       "  887.6270446777344),\n",
       " (565.5228271484375, 529.0137329101562, 774.0629730224609, 810.9938049316406),\n",
       " (829.9771118164062, 565.14501953125, 1100.8348083496094, 869.0626831054688),\n",
       " (310.98333740234375,\n",
       "  445.1978454589844,\n",
       "  440.75904846191406,\n",
       "  565.3370132446289),\n",
       " (927.90625, 563.393798828125, 1097.5391540527344, 813.7358856201172),\n",
       " (295.9640808105469,\n",
       "  211.29629516601562,\n",
       "  511.96702575683594,\n",
       "  426.9286804199219),\n",
       " (251.1849365234375, 303.5404357910156, 1233.239990234375, 884.6238708496094),\n",
       " (413.60498046875, 519.1610107421875, 518.3081359863281, 685.6061248779297),\n",
       " (816.0963745117188,\n",
       "  322.11383056640625,\n",
       "  1237.0708618164062,\n",
       "  883.6727905273438),\n",
       " (273.0611877441406, 262.109375, 1134.2605895996094, 869.498779296875),\n",
       " (838.279052734375, 318.07244873046875, 1145.2294311523438, 614.3818359375),\n",
       " (954.9042358398438,\n",
       "  320.19659423828125,\n",
       "  1085.9523162841797,\n",
       "  574.3385925292969),\n",
       " (721.9324951171875, 534.2677001953125, 871.6952514648438, 736.0935974121094),\n",
       " (247.03707885742188,\n",
       "  483.4353332519531,\n",
       "  1191.4966125488281,\n",
       "  879.8196716308594),\n",
       " (283.0458068847656, 381.34503173828125, 351.5056610107422, 518.5049743652344),\n",
       " (309.8516540527344, 519.919677734375, 488.3329772949219, 702.9226379394531),\n",
       " (70.5848388671875, 315.8857727050781, 1233.7847900390625, 1005.1867370605469),\n",
       " (625.63720703125, 491.04296875, 765.4146728515625, 647.6157379150391),\n",
       " (2.75372314453125, 3.97412109375, 1500.4821166992188, 1010.01806640625),\n",
       " (602.5654296875, 492.08056640625, 792.9584197998047, 780.3406982421875),\n",
       " (838.279052734375, 318.07244873046875, 1145.2294311523438, 614.3818359375),\n",
       " (69.41986083984375, 212.077880859375, 1499.7904663085938, 1004.42822265625)]"
      ]
     },
     "execution_count": 70,
     "metadata": {},
     "output_type": "execute_result"
    }
   ],
   "source": [
    "boxes"
   ]
  },
  {
   "cell_type": "code",
   "execution_count": 5,
   "metadata": {},
   "outputs": [
    {
     "name": "stdout",
     "output_type": "stream",
     "text": [
      "Converted 00_paths.ipynb.\n",
      "Converted boxes.ipynb.\n",
      "Converted food_segment.ipynb.\n",
      "Converted tests.ipynb.\n"
     ]
    }
   ],
   "source": [
    "!nbdev_build_lib"
   ]
  },
  {
   "cell_type": "code",
   "execution_count": null,
   "metadata": {},
   "outputs": [],
   "source": []
  }
 ],
 "metadata": {
  "kernelspec": {
   "display_name": "Python 3.9.12 ('dab')",
   "language": "python",
   "name": "python3"
  },
  "language_info": {
   "codemirror_mode": {
    "name": "ipython",
    "version": 3
   },
   "file_extension": ".py",
   "mimetype": "text/x-python",
   "name": "python",
   "nbconvert_exporter": "python",
   "pygments_lexer": "ipython3",
   "version": "3.9.12"
  },
  "vscode": {
   "interpreter": {
    "hash": "1890a71ea5774f229b8caf2bb08b025d26661d0fac52963e8dd675a3c8794a2e"
   }
  }
 },
 "nbformat": 4,
 "nbformat_minor": 4
}
